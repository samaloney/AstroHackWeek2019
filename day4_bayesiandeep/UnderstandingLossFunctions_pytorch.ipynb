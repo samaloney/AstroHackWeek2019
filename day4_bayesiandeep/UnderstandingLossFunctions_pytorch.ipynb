{
 "cells": [
  {
   "cell_type": "code",
   "execution_count": 14,
   "metadata": {},
   "outputs": [
    {
     "name": "stdout",
     "output_type": "stream",
     "text": [
      "Populating the interactive namespace from numpy and matplotlib\n"
     ]
    }
   ],
   "source": [
    "%pylab inline\n",
    "import seaborn as sns\n",
    "import torch as th\n",
    "import torch.nn as nn"
   ]
  },
  {
   "cell_type": "code",
   "execution_count": 15,
   "metadata": {},
   "outputs": [],
   "source": [
    "from scipy.stats import lognorm\n",
    "\n",
    "x = linspace(0.1,1.5)\n",
    "def model(x):\n",
    "  return lognorm.rvs(s=x, loc=2*x)"
   ]
  },
  {
   "cell_type": "code",
   "execution_count": 16,
   "metadata": {},
   "outputs": [
    {
     "data": {
      "image/png": "[encoded data removed]",
      "text/plain": [
       "<Figure size 432x288 with 1 Axes>"
      ]
     },
     "metadata": {
      "needs_background": "light"
     },
     "output_type": "display_data"
    }
   ],
   "source": [
    "scatter(x, model(x))\n",
    "xlabel('x')\n",
    "ylabel('y')\n",
    "ylim(0,12);"
   ]
  },
  {
   "cell_type": "code",
   "execution_count": 17,
   "metadata": {},
   "outputs": [
    {
     "data": {
      "text/plain": [
       "Text(0, 0.5, 'y')"
      ]
     },
     "execution_count": 17,
     "metadata": {},
     "output_type": "execute_result"
    },
    {
     "data": {
      "image/png": "[encoded data removed]",
      "text/plain": [
       "<Figure size 432x288 with 1 Axes>"
      ]
     },
     "metadata": {
      "needs_background": "light"
     },
     "output_type": "display_data"
    }
   ],
   "source": [
    "scatter(x, model(x))\n",
    "plot(x, lognorm.mean(x, loc=2*x), label='p(y|x) mean')\n",
    "plot(x, lognorm.median(x, loc=2*x), label='p(y|x) median')\n",
    "plot(x, exp(- x**2) + 2*x, label='p(y|x) mode')\n",
    "ylim(0,12)\n",
    "legend()\n",
    "xlabel('x')\n",
    "ylabel('y')"
   ]
  },
  {
   "cell_type": "code",
   "execution_count": 58,
   "metadata": {},
   "outputs": [],
   "source": [
    "# Building training and testing sets \n",
    "x_train = np.random.uniform(0.1,1.5,100*1000).reshape(1000,100)\n",
    "y_train = model(x_train)\n",
    "\n",
    "train_dataset = th.utils.data.TensorDataset(th.tensor(x_train.reshape(-1,1)), th.tensor(y_train.reshape(-1, 1)))\n",
    "train_datalaoder = th.utils.data.DataLoader(train_dataset, batch_size=256)\n",
    "\n",
    "x_test = np.random.uniform(0.1,1.5,100*1000).reshape(1000,100)\n",
    "y_test = model(x_test)\n",
    "\n",
    "test_dataset = th.utils.data.TensorDataset(th.tensor(x_test.reshape(-1, 1)), th.tensor(y_test.reshape(-1,1)))\n",
    "test_datalaoder = th.utils.data.DataLoader(test_dataset)"
   ]
  },
  {
   "cell_type": "code",
   "execution_count": 87,
   "metadata": {},
   "outputs": [
    {
     "name": "stderr",
     "output_type": "stream",
     "text": [
      "/Users/shane/.virtualenvs/ahw/lib/python3.7/site-packages/ipykernel_launcher.py:17: UserWarning: nn.init.xavier_uniform is now deprecated in favor of nn.init.xavier_uniform_.\n"
     ]
    },
    {
     "data": {
      "text/plain": [
       "Sequential(\n",
       "  (0): Linear(in_features=1, out_features=128, bias=True)\n",
       "  (1): ReLU()\n",
       "  (2): Linear(in_features=128, out_features=128, bias=True)\n",
       "  (3): Tanh()\n",
       "  (4): Linear(in_features=128, out_features=1, bias=True)\n",
       ")"
      ]
     },
     "execution_count": 87,
     "metadata": {},
     "output_type": "execute_result"
    }
   ],
   "source": [
    "learning_rate=1e-3\n",
    "decay=1e-6\n",
    "\n",
    "l2_model = nn.Sequential(\n",
    "    nn.Linear(1, 128),\n",
    "    nn.ReLU(),\n",
    "    nn.Linear(128, 128),\n",
    "    nn.Tanh(),\n",
    "    nn.Linear(128, 1)\n",
    ")\n",
    "\n",
    "optimizer = th.optim.Adam(l2_model.parameters(), lr=learning_rate, weight_decay=decay)\n",
    "criterion =  th.nn.MSELoss()\n",
    "\n",
    "def init_weights(m):\n",
    "    if type(m) == nn.Linear:\n",
    "        nn.init.xavier_uniform(m.weight)\n",
    "        \n",
    "l2_model.apply(init_weights)"
   ]
  },
  {
   "cell_type": "code",
   "execution_count": 95,
   "metadata": {},
   "outputs": [
    {
     "data": {
      "text/plain": [
       "<bound method Module.modules of Sequential(\n",
       "  (0): Linear(in_features=1, out_features=128, bias=True)\n",
       "  (1): ReLU()\n",
       "  (2): Linear(in_features=128, out_features=128, bias=True)\n",
       "  (3): Tanh()\n",
       "  (4): Linear(in_features=128, out_features=1, bias=True)\n",
       ")>"
      ]
     },
     "execution_count": 95,
     "metadata": {},
     "output_type": "execute_result"
    }
   ],
   "source": [
    "l2_model."
   ]
  },
  {
   "cell_type": "code",
   "execution_count": 88,
   "metadata": {},
   "outputs": [
    {
     "name": "stdout",
     "output_type": "stream",
     "text": [
      "Epoch 1, loss 24.676422119140625\n",
      "Epoch 2, loss 24.581300735473633\n",
      "Epoch 3, loss 24.528383255004883\n",
      "Epoch 4, loss 24.501344680786133\n",
      "Epoch 5, loss 24.484464645385742\n",
      "Epoch 6, loss 24.47027015686035\n",
      "Epoch 7, loss 24.459312438964844\n",
      "Epoch 8, loss 24.45118522644043\n",
      "Epoch 9, loss 24.44561004638672\n",
      "Epoch 10, loss 24.441295623779297\n",
      "Epoch 11, loss 24.436965942382812\n",
      "Epoch 12, loss 24.434429168701172\n",
      "Epoch 13, loss 24.43140411376953\n",
      "Epoch 14, loss 24.430076599121094\n",
      "Epoch 15, loss 24.42669677734375\n",
      "Epoch 16, loss 24.422561645507812\n",
      "Epoch 17, loss 24.41887664794922\n",
      "Epoch 18, loss 24.41697120666504\n",
      "Epoch 19, loss 24.414657592773438\n",
      "Epoch 20, loss 24.412065505981445\n"
     ]
    }
   ],
   "source": [
    "for epoch in range(20):\n",
    "    for x, y in train_datalaoder:\n",
    "        y_pred = l2_model(x.float())\n",
    "\n",
    "        # Compute and print loss\n",
    "        loss = criterion(y_pred, y.float())\n",
    "\n",
    "        optimizer.zero_grad()\n",
    "        loss.backward()\n",
    "        optimizer.step()\n",
    "    \n",
    "    print('Epoch {}, loss {}'.format(epoch+1, loss))"
   ]
  },
  {
   "cell_type": "code",
   "execution_count": 89,
   "metadata": {},
   "outputs": [],
   "source": [
    "l2_model.eval()\n",
    "preds = l2_model(th.tensor(x_test.reshape(-1, 1)).float())\n",
    "preds = preds.reshape(y_test.shape).detach().numpy()"
   ]
  },
  {
   "cell_type": "code",
   "execution_count": 90,
   "metadata": {},
   "outputs": [
    {
     "data": {
      "text/plain": [
       "<matplotlib.legend.Legend at 0x133549048>"
      ]
     },
     "execution_count": 90,
     "metadata": {},
     "output_type": "execute_result"
    },
    {
     "data": {
      "image/png": "[encoded data removed]",
      "text/plain": [
       "<Figure size 432x288 with 1 Axes>"
      ]
     },
     "metadata": {
      "needs_background": "light"
     },
     "output_type": "display_data"
    }
   ],
   "source": [
    "scatter(x_test[0], preds[0])\n",
    "scatter(x_test[0], y_test[0])\n",
    "xlabel('x')\n",
    "ylabel('y')\n",
    "xlim(0.1,1.5)\n",
    "ylim(0,12)\n",
    "plot(x, lognorm.mean(x, loc=2*x), label='p(y|x) mean')\n",
    "plot(x, lognorm.median(x, loc=2*x), label='p(y|x) median')\n",
    "plot(x, exp(- x**2) + 2*x, label='p(y|x) mode')\n",
    "legend()"
   ]
  },
  {
   "cell_type": "code",
   "execution_count": 83,
   "metadata": {},
   "outputs": [
    {
     "data": {
      "text/plain": [
       "array([[1.6524858, 3.3002317, 4.465593 , ..., 2.0600147, 1.8436011,\n",
       "        1.5922856],\n",
       "       [2.39022  , 5.6570034, 2.5006611, ..., 5.531452 , 5.844982 ,\n",
       "        4.6158648],\n",
       "       [5.2893577, 2.7285035, 3.9208   , ..., 2.3092759, 2.1380982,\n",
       "        2.1190197],\n",
       "       ...,\n",
       "       [2.3935025, 2.351248 , 4.0902443, ..., 1.7541642, 5.6905284,\n",
       "        4.661187 ],\n",
       "       [4.013382 , 3.1948922, 1.5698551, ..., 3.2423167, 2.3876247,\n",
       "        4.333    ],\n",
       "       [3.7097757, 2.6575298, 3.0424266, ..., 2.451561 , 5.7284975,\n",
       "        2.2210696]], dtype=float32)"
      ]
     },
     "execution_count": 83,
     "metadata": {},
     "output_type": "execute_result"
    }
   ],
   "source": [
    "preds"
   ]
  },
  {
   "cell_type": "code",
   "execution_count": 84,
   "metadata": {},
   "outputs": [],
   "source": [
    "nn.Linear?"
   ]
  },
  {
   "cell_type": "code",
   "execution_count": null,
   "metadata": {},
   "outputs": [],
   "source": []
  }
 ],
 "metadata": {
  "kernelspec": {
   "display_name": "Python 3",
   "language": "python",
   "name": "python3"
  },
  "language_info": {
   "codemirror_mode": {
    "name": "ipython",
    "version": 3
   },
   "file_extension": ".py",
   "mimetype": "text/x-python",
   "name": "python",
   "nbconvert_exporter": "python",
   "pygments_lexer": "ipython3",
   "version": "3.7.0"
  }
 },
 "nbformat": 4,
 "nbformat_minor": 2
}
